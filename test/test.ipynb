{
 "cells": [
  {
   "cell_type": "markdown",
   "metadata": {},
   "source": [
    "# example code for checking installation"
   ]
  },
  {
   "cell_type": "code",
   "execution_count": null,
   "metadata": {},
   "outputs": [],
   "source": [
    "import pyomo.environ as pyo\n",
    "from pyomo2h5 import save_h5\n",
    "\n",
    "# Create Model\n",
    "m = pyo.ConcreteModel()\n",
    "\n",
    "m.I = pyo.RangeSet(5)\n",
    "\n",
    "m.p = pyo.Param(initialize=5,doc=\"this is a parameter\")\n",
    "\n",
    "m.x = pyo.Var(m.I, within=pyo.NonNegativeReals,doc=\"this is an indexed variable\")\n",
    "\n",
    "@m.Objective(doc=\"This is an Objective\", sense=pyo.minimize)\n",
    "def obj(m):\n",
    "    return sum(m.x[i] for i in m.I)\n",
    "\n",
    "@m.Constraint(doc=\"This is a Constraint\")\n",
    "def con1(m):\n",
    "    return m.x[1] >= m.p\n",
    "\n",
    "# Solve Model\n",
    "filename = \"test6\"\n",
    "\n",
    "solver = pyo.SolverFactory(\"gurobi\", solver_io=\"python\")\n",
    "solver.options[\"LogFile\"] = filename + \".log\"\n",
    "results = solver.solve(m, tee=True)\n",
    "\n",
    "# Save the dictionary to an HDF5 file\n",
    "save_h5(m, results, filename,\n",
    "        save_log_flag=False,\n",
    "        save_constraint_flag=True,\n",
    "        pickle_flag=True,\n",
    "        git_flag=True)\n",
    "print(\"Dictionary saved to HDF5 file successfully!\")"
   ]
  }
 ],
 "metadata": {
  "kernelspec": {
   "display_name": "env",
   "language": "python",
   "name": "python3"
  },
  "language_info": {
   "codemirror_mode": {
    "name": "ipython",
    "version": 3
   },
   "file_extension": ".py",
   "mimetype": "text/x-python",
   "name": "python",
   "nbconvert_exporter": "python",
   "pygments_lexer": "ipython3",
   "version": "3.11.11"
  }
 },
 "nbformat": 4,
 "nbformat_minor": 2
}
