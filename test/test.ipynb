{
 "cells": [
  {
   "cell_type": "markdown",
   "metadata": {},
   "source": [
    "# example code for checking installation and functionality of the code"
   ]
  },
  {
   "cell_type": "code",
   "execution_count": 1,
   "metadata": {},
   "outputs": [],
   "source": [
    "import pyomo.environ as pyo\n",
    "from pyomo2h5 import PyomoHDF5Saver, ConstraintTracker"
   ]
  },
  {
   "cell_type": "markdown",
   "metadata": {},
   "source": [
    "## Create pyomo model"
   ]
  },
  {
   "cell_type": "code",
   "execution_count": 2,
   "metadata": {},
   "outputs": [],
   "source": [
    "# Create Model\n",
    "m = pyo.ConcreteModel(\"name\")\n",
    "\n",
    "m.Scenarios = pyo.RangeSet(3)\n",
    "\n",
    "m.I = pyo.RangeSet(5)\n",
    "\n",
    "m.kk = pyo.Set(initialize=[1,43,\"a\"])\n",
    "\n",
    "m.p = pyo.Param(initialize=5,doc=\"this is a parameter\")\n",
    "\n",
    "m.x = pyo.Var(m.I, within=pyo.NonNegativeReals,doc=\"this is an indexed variable\")\n",
    "\n",
    "@m.Objective(doc=\"This is an Objective\", sense=pyo.minimize)\n",
    "def obj(m):\n",
    "    return sum(m.x[i] for i in m.I)\n",
    "\n",
    "@m.Constraint(doc=\"This is a Constraint\")\n",
    "def cons1(m):\n",
    "    return m.x[3]<=4\n",
    "\n",
    "@m.Block()\n",
    "def scenario(block):\n",
    "    block.Scenarios = pyo.RangeSet(5)\n",
    "    block.x = pyo.Var(block.Scenarios, within=pyo.NonNegativeIntegers)\n",
    "    @block.Constraint()\n",
    "    def block_con1(block):\n",
    "        return sum(block.x[j] for j in block.Scenarios) >= 34\n",
    "\n",
    "@m.Constraint(m.I, doc=\"This is a Constraint\")\n",
    "def con1(m, i):\n",
    "    return m.x[i] >= m.scenario.x[i]/10"
   ]
  },
  {
   "cell_type": "markdown",
   "metadata": {},
   "source": [
    "## Solve Model"
   ]
  },
  {
   "cell_type": "code",
   "execution_count": 3,
   "metadata": {},
   "outputs": [
    {
     "name": "stdout",
     "output_type": "stream",
     "text": [
      "Set parameter OutputFlag to value 1\n",
      "Set parameter LogFile to value \"test3.log\"\n",
      "Set parameter TimeLimit to value 60\n",
      "Gurobi Optimizer version 12.0.0 build v12.0.0rc1 (linux64 - \"Ubuntu 20.04.6 LTS\")\n",
      "\n",
      "CPU model: AMD Ryzen 7 PRO 5850U with Radeon Graphics, instruction set [SSE2|AVX|AVX2]\n",
      "Thread count: 8 physical cores, 16 logical processors, using up to 16 threads\n",
      "\n",
      "Non-default parameters:\n",
      "TimeLimit  60\n",
      "\n",
      "Optimize a model with 7 rows, 10 columns and 16 nonzeros\n",
      "Model fingerprint: 0xed9b7ad6\n",
      "Variable types: 5 continuous, 5 integer (0 binary)\n",
      "Coefficient statistics:\n"
     ]
    },
    {
     "name": "stdout",
     "output_type": "stream",
     "text": [
      "  Matrix range     [1e-01, 1e+00]\n",
      "  Objective range  [1e+00, 1e+00]\n",
      "  Bounds range     [0e+00, 0e+00]\n",
      "  RHS range        [4e+00, 3e+01]\n",
      "Presolve removed 7 rows and 10 columns\n",
      "Presolve time: 0.00s\n",
      "Presolve: All rows and columns removed\n",
      "\n",
      "Explored 0 nodes (0 simplex iterations) in 0.01 seconds (0.00 work units)\n",
      "Thread count was 1 (of 16 available processors)\n",
      "\n",
      "Solution count 1: 3.4 \n",
      "\n",
      "Optimal solution found (tolerance 1.00e-04)\n",
      "Best objective 3.400000000000e+00, best bound 3.400000000000e+00, gap 0.0000%\n"
     ]
    }
   ],
   "source": [
    "filename = \"test3\"\n",
    "\n",
    "solver = pyo.SolverFactory(\"gurobi\", solver_io=\"python\")\n",
    "solver.options[\"LogFile\"] = filename + \".log\"\n",
    "solver.options[\"TimeLimit\"] = 60\n",
    "results = solver.solve(m, tee=True)"
   ]
  },
  {
   "cell_type": "markdown",
   "metadata": {},
   "source": [
    "## Save to h5"
   ]
  },
  {
   "cell_type": "code",
   "execution_count": 4,
   "metadata": {},
   "outputs": [],
   "source": [
    "with PyomoHDF5Saver(filename, force=False) as saver:\n",
    "    saver.save_instance(m, results, solver_options=solver.options)"
   ]
  },
  {
   "cell_type": "markdown",
   "metadata": {},
   "source": [
    "## Add metadata"
   ]
  },
  {
   "cell_type": "code",
   "execution_count": 5,
   "metadata": {},
   "outputs": [],
   "source": [
    "metadata = {\n",
    "    \"Metadata\": {\"Written by\": \"Julius\"},\n",
    "    \"Notes\": {\n",
    "        \"Content\": \"This is an example save.\",\n",
    "        \"Metadata\": {\"Reviewed\": \"Yes\"}\n",
    "    }\n",
    "}\n",
    "\n",
    "with PyomoHDF5Saver(filename, force=False, mode=\"a\") as saver:\n",
    "    saver._save_annotated_dict(metadata)"
   ]
  },
  {
   "cell_type": "markdown",
   "metadata": {},
   "source": [
    "## Load instance from filename"
   ]
  },
  {
   "cell_type": "code",
   "execution_count": 6,
   "metadata": {},
   "outputs": [
    {
     "name": "stdout",
     "output_type": "stream",
     "text": [
      "x : this is an indexed variable\n",
      "    Size=5, Index=I\n",
      "    Key : Lower : Value : Upper : Fixed : Stale : Domain\n",
      "      1 :     0 :  -0.0 :  None : False : False : NonNegativeReals\n",
      "      2 :     0 :  -0.0 :  None : False : False : NonNegativeReals\n",
      "      3 :     0 :   3.4 :  None : False : False : NonNegativeReals\n",
      "      4 :     0 :  -0.0 :  None : False : False : NonNegativeReals\n",
      "      5 :     0 :  -0.0 :  None : False : False : NonNegativeReals\n"
     ]
    }
   ],
   "source": [
    "with PyomoHDF5Saver(filename,mode=\"r\") as saver:\n",
    "    instance2 = saver.load_instance()\n",
    "\n",
    "instance2.x.pprint()"
   ]
  },
  {
   "cell_type": "markdown",
   "metadata": {},
   "source": [
    "## Add constraints that are tracked\n",
    "handy for computing pareto fronts to keep track of added constraints"
   ]
  },
  {
   "cell_type": "code",
   "execution_count": 7,
   "metadata": {},
   "outputs": [
    {
     "name": "stdout",
     "output_type": "stream",
     "text": [
      "x1_min2: x1_min2\n",
      "Failed to save tracked constraints: 'IndexedConstraint' object has no attribute 'body'\n"
     ]
    }
   ],
   "source": [
    "tracker = ConstraintTracker()\n",
    "\n",
    "\n",
    "@m.Constraint(m)\n",
    "def x1_min2(m):\n",
    "    return m.x[3]>=1\n",
    "\n",
    "# Add some constraints\n",
    "tracker.add(m.x1_min2)\n",
    "# tracker.add(m, m.x[2] <= 5, name=\"x2_max2\")\n",
    "\n",
    "# tracker.delete(m, \"x1_min33\")\n",
    "\n",
    "# Show them\n",
    "tracker.print_constraints()\n",
    "\n",
    "with PyomoHDF5Saver(filename) as saver:\n",
    "    saver.save_tracked_constraints(tracker, \"Additional_constraints\")"
   ]
  }
 ],
 "metadata": {
  "kernelspec": {
   "display_name": "env",
   "language": "python",
   "name": "python3"
  },
  "language_info": {
   "codemirror_mode": {
    "name": "ipython",
    "version": 3
   },
   "file_extension": ".py",
   "mimetype": "text/x-python",
   "name": "python",
   "nbconvert_exporter": "python",
   "pygments_lexer": "ipython3",
   "version": "3.11.11"
  }
 },
 "nbformat": 4,
 "nbformat_minor": 2
}
