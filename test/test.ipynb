{
 "cells": [
  {
   "cell_type": "markdown",
   "metadata": {},
   "source": [
    "# example code for checking installation and functionality of the code"
   ]
  },
  {
   "cell_type": "code",
   "execution_count": 1,
   "metadata": {},
   "outputs": [],
   "source": [
    "import pyomo.environ as pyo\n",
    "from pyomo2h5 import PyomoHDF5Saver, ConstraintTracker"
   ]
  },
  {
   "cell_type": "markdown",
   "metadata": {},
   "source": [
    "## Create pyomo model"
   ]
  },
  {
   "cell_type": "code",
   "execution_count": 2,
   "metadata": {},
   "outputs": [],
   "source": [
    "# Create Model\n",
    "m = pyo.ConcreteModel(\"name\")\n",
    "\n",
    "m.Scenarios = pyo.RangeSet(3)\n",
    "\n",
    "m.I = pyo.RangeSet(5)\n",
    "\n",
    "m.kk = pyo.Set(initialize=[1,43,\"a\"])\n",
    "\n",
    "m.p = pyo.Param(initialize=5,doc=\"this is a parameter\")\n",
    "\n",
    "m.x = pyo.Var(m.I, within=pyo.NonNegativeReals,doc=\"this is an indexed variable\")\n",
    "\n",
    "@m.Objective(doc=\"This is an Objective\", sense=pyo.minimize)\n",
    "def obj(m):\n",
    "    return sum(m.x[i] for i in m.I)\n",
    "\n",
    "@m.Constraint(doc=\"This is a Constraint\")\n",
    "def cons1(m):\n",
    "    return m.x[3]<=4\n",
    "\n",
    "@m.Block()\n",
    "def scenario(block):\n",
    "    block.Scenarios = pyo.RangeSet(5)\n",
    "    block.x = pyo.Var(block.Scenarios, within=pyo.NonNegativeIntegers)\n",
    "    @block.Constraint()\n",
    "    def block_con1(block):\n",
    "        return sum(block.x[j] for j in block.Scenarios) >= 34\n",
    "\n",
    "@m.Constraint(m.I, doc=\"This is a Constraint\")\n",
    "def con1(m, i):\n",
    "    return m.x[i] >= m.scenario.x[i]/10"
   ]
  },
  {
   "cell_type": "markdown",
   "metadata": {},
   "source": [
    "## Solve and save Model"
   ]
  },
  {
   "cell_type": "markdown",
   "metadata": {},
   "source": [
    "#### direct approach -- solving and saving using PyomoHDF5Saver"
   ]
  },
  {
   "cell_type": "code",
   "execution_count": 3,
   "metadata": {},
   "outputs": [],
   "source": [
    "# filename = \"test1\"\n",
    "\n",
    "# solver = pyo.SolverFactory(\"gurobi\", solver_io=\"python\")\n",
    "# solver.options[\"TimeLimit\"] = 60\n",
    "\n",
    "# with PyomoHDF5Saver(filename, force=True) as saver:\n",
    "#     saver.solve_and_save_instance(m, solver, solver_tee=False)"
   ]
  },
  {
   "cell_type": "markdown",
   "metadata": {},
   "source": [
    "#### Or solve model and then save it"
   ]
  },
  {
   "cell_type": "code",
   "execution_count": 4,
   "metadata": {},
   "outputs": [],
   "source": [
    "# filename = \"test2\"\n",
    "\n",
    "# solver = pyo.SolverFactory(\"gurobi\", solver_io=\"python\")\n",
    "# solver.options[\"LogFile\"] = filename + \".log\"\n",
    "# solver.options[\"TimeLimit\"] = 60\n",
    "# results = solver.solve(m, tee=False)\n",
    "\n",
    "\n",
    "# with PyomoHDF5Saver(filename, force=False) as saver:\n",
    "#     saver.save_instance(m, results, solver_options=solver.options)"
   ]
  },
  {
   "cell_type": "markdown",
   "metadata": {},
   "source": [
    "### Save using uuid and adding a comment"
   ]
  },
  {
   "cell_type": "code",
   "execution_count": 5,
   "metadata": {},
   "outputs": [
    {
     "name": "stdout",
     "output_type": "stream",
     "text": [
      "Progress table not found. This either indicates the model is infeasible, unbounded or was solved instantly\n"
     ]
    }
   ],
   "source": [
    "import uuid\n",
    "comment = input(\"Enter comment for file here:\\n\")\n",
    "filename = \"\" + str(uuid.uuid4())\n",
    "\n",
    "solver = pyo.SolverFactory(\"gurobi\", solver_io=\"python\")\n",
    "solver.options[\"LogFile\"] = filename + \".log\"\n",
    "solver.options[\"TimeLimit\"] = 60\n",
    "\n",
    "with PyomoHDF5Saver(filename, force=True) as saver:\n",
    "    saver.solve_and_save_instance(m, solver, solver_tee=False)\n",
    "    saver.save_annotated_dict({\"Comment\": {\"Content\": comment}})"
   ]
  },
  {
   "cell_type": "markdown",
   "metadata": {},
   "source": [
    "## Add metadata"
   ]
  },
  {
   "cell_type": "code",
   "execution_count": 6,
   "metadata": {},
   "outputs": [],
   "source": [
    "metadata = {\n",
    "    \"Metadata\": {\"Written by\": \"Julius\"},\n",
    "    \"Notes\": {\n",
    "        \"First note\": {\n",
    "            \"Content\": \"This is an example save.\",\n",
    "            \"Metadata\": {\n",
    "                    \"Description\": \"Flattened fan_tuple results\",\n",
    "                    \"Units\": \"VolumeFlow in m3/s, PressureIncrease in Pa, PowerLoss in W, RelativeRotSpeed in -\"\n",
    "                }},\n",
    "        \"Second note\": {\"Content\": \"This is an example save.\",\n",
    "            \"Metadata\": {\n",
    "                    \"Description\": \"Flattened fan_tuple results\",\n",
    "                    \"Units\": \"VolumeFlow in m3/s, PressureIncrease in Pa, PowerLoss in W, RelativeRotSpeed in -\"\n",
    "                }\n",
    "        }\n",
    "    }\n",
    "}\n",
    "\n",
    "with PyomoHDF5Saver(filename, force=False, mode=\"a\") as saver:\n",
    "    saver.save_annotated_dict(metadata)"
   ]
  },
  {
   "cell_type": "code",
   "execution_count": 7,
   "metadata": {},
   "outputs": [
    {
     "name": "stdout",
     "output_type": "stream",
     "text": [
      "1322f8e7-6092-4409-94e7-a18f3df70570\n"
     ]
    }
   ],
   "source": [
    "print(filename)"
   ]
  },
  {
   "cell_type": "markdown",
   "metadata": {},
   "source": [
    "## Load instance from filename"
   ]
  },
  {
   "cell_type": "code",
   "execution_count": 8,
   "metadata": {},
   "outputs": [
    {
     "name": "stdout",
     "output_type": "stream",
     "text": [
      "x : this is an indexed variable\n",
      "    Size=5, Index=I\n",
      "    Key : Lower : Value : Upper : Fixed : Stale : Domain\n",
      "      1 :     0 :  -0.0 :  None : False : False : NonNegativeReals\n",
      "      2 :     0 :  -0.0 :  None : False : False : NonNegativeReals\n",
      "      3 :     0 :   3.4 :  None : False : False : NonNegativeReals\n",
      "      4 :     0 :  -0.0 :  None : False : False : NonNegativeReals\n",
      "      5 :     0 :  -0.0 :  None : False : False : NonNegativeReals\n"
     ]
    }
   ],
   "source": [
    "with PyomoHDF5Saver(filename,mode=\"r\") as saver:\n",
    "    instance2 = saver.load_instance()\n",
    "\n",
    "instance2.x.pprint()"
   ]
  },
  {
   "cell_type": "markdown",
   "metadata": {},
   "source": [
    "## Add constraints that are tracked\n",
    "handy for computing pareto fronts to keep track of added constraints"
   ]
  },
  {
   "cell_type": "code",
   "execution_count": 9,
   "metadata": {},
   "outputs": [
    {
     "name": "stdout",
     "output_type": "stream",
     "text": [
      "x1_min2: x1_min2\n"
     ]
    }
   ],
   "source": [
    "tracker = ConstraintTracker()\n",
    "\n",
    "\n",
    "@m.Constraint()\n",
    "def x1_min2(m):\n",
    "    return m.x[3]>=1\n",
    "\n",
    "# Add some constraints\n",
    "tracker.add(m.x1_min2)\n",
    "# tracker.add(m, m.x[2] <= 5, name=\"x2_max2\")\n",
    "\n",
    "# tracker.delete(m, \"x1_min33\")\n",
    "\n",
    "# Show them\n",
    "tracker.print_constraints()\n",
    "\n",
    "with PyomoHDF5Saver(filename) as saver:\n",
    "    saver.save_tracked_constraints(tracker, \"Additional_constraints\")"
   ]
  }
 ],
 "metadata": {
  "kernelspec": {
   "display_name": "env",
   "language": "python",
   "name": "python3"
  },
  "language_info": {
   "codemirror_mode": {
    "name": "ipython",
    "version": 3
   },
   "file_extension": ".py",
   "mimetype": "text/x-python",
   "name": "python",
   "nbconvert_exporter": "python",
   "pygments_lexer": "ipython3",
   "version": "3.11.11"
  }
 },
 "nbformat": 4,
 "nbformat_minor": 2
}
