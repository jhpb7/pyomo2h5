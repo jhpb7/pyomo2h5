{
 "cells": [
  {
   "cell_type": "markdown",
   "metadata": {},
   "source": [
    "# example code for checking installation"
   ]
  },
  {
   "cell_type": "code",
   "execution_count": 3,
   "metadata": {},
   "outputs": [
    {
     "name": "stdout",
     "output_type": "stream",
     "text": [
      "Set parameter OutputFlag to value 1\n",
      "Set parameter LogFile to value \"test6.log\"\n",
      "Gurobi Optimizer version 12.0.0 build v12.0.0rc1 (linux64 - \"Ubuntu 20.04.6 LTS\")\n",
      "\n",
      "CPU model: AMD Ryzen 7 PRO 5850U with Radeon Graphics, instruction set [SSE2|AVX|AVX2]\n",
      "Thread count: 8 physical cores, 16 logical processors, using up to 16 threads\n",
      "\n",
      "Optimize a model with 1 rows, 5 columns and 1 nonzeros\n",
      "Model fingerprint: 0x1fb41d47\n",
      "Coefficient statistics:\n",
      "  Matrix range     [1e+00, 1e+00]\n",
      "  Objective range  [1e+00, 1e+00]\n",
      "  Bounds range     [0e+00, 0e+00]\n",
      "  RHS range        [5e+00, 5e+00]\n",
      "Presolve removed 1 rows and 5 columns\n",
      "Presolve time: 0.01s\n",
      "Presolve: All rows and columns removed\n",
      "Iteration    Objective       Primal Inf.    Dual Inf.      Time\n",
      "       0    5.0000000e+00   0.000000e+00   0.000000e+00      0s\n",
      "\n",
      "Solved in 0 iterations and 0.02 seconds (0.00 work units)\n",
      "Optimal objective  5.000000000e+00\n",
      "Dictionary saved to HDF5 file successfully!\n"
     ]
    }
   ],
   "source": [
    "import pyomo.environ as pyo\n",
    "from pyomo2h5 import save_h5\n",
    "\n",
    "# Create Model\n",
    "m = pyo.ConcreteModel()\n",
    "\n",
    "m.I = pyo.RangeSet(5)\n",
    "\n",
    "m.p = pyo.Param(initialize=5,doc=\"this is a parameter\")\n",
    "\n",
    "m.x = pyo.Var(m.I, within=pyo.NonNegativeReals,doc=\"this is an indexed variable\")\n",
    "\n",
    "@m.Objective(doc=\"This is an Objective\", sense=pyo.minimize)\n",
    "def obj(m):\n",
    "    return sum(m.x[i] for i in m.I)\n",
    "\n",
    "@m.Constraint(doc=\"This is a Constraint\")\n",
    "def con1(m):\n",
    "    return m.x[1] >= m.p\n",
    "\n",
    "# Solve Model\n",
    "filename = \"test6\"\n",
    "\n",
    "solver = pyo.SolverFactory(\"gurobi\", solver_io=\"python\")\n",
    "solver.options[\"LogFile\"] = filename + \".log\"\n",
    "results = solver.solve(m, tee=True)\n",
    "\n",
    "# Save the dictionary to an HDF5 file\n",
    "save_h5(m, results, filename,\n",
    "        save_log_flag=False,\n",
    "        save_constraint_flag=True,\n",
    "        pickle_flag=True,\n",
    "        git_flag=True)\n",
    "print(\"Dictionary saved to HDF5 file successfully!\")"
   ]
  }
 ],
 "metadata": {
  "kernelspec": {
   "display_name": "env",
   "language": "python",
   "name": "python3"
  },
  "language_info": {
   "codemirror_mode": {
    "name": "ipython",
    "version": 3
   },
   "file_extension": ".py",
   "mimetype": "text/x-python",
   "name": "python",
   "nbconvert_exporter": "python",
   "pygments_lexer": "ipython3",
   "version": "3.11.11"
  }
 },
 "nbformat": 4,
 "nbformat_minor": 2
}
