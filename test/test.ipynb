{
 "cells": [
  {
   "cell_type": "markdown",
   "metadata": {},
   "source": [
    "# example code for checking installation"
   ]
  },
  {
   "cell_type": "code",
   "execution_count": 1,
   "metadata": {},
   "outputs": [],
   "source": [
    "import pyomo.environ as pyo\n",
    "from pyomo2h5 import save_h5, save_dict_w_metadata\n",
    "\n",
    "import h5py"
   ]
  },
  {
   "cell_type": "code",
   "execution_count": 2,
   "metadata": {},
   "outputs": [],
   "source": [
    "# Dict to track constraints with unique keys\n",
    "constraint_log = {}\n",
    "constraint_counter = 0\n",
    "\n",
    "def add_tracked_constraint(model, constraint_expr, name=None):\n",
    "    global constraint_counter\n",
    "    cname = name or f\"added_constraint_{constraint_counter}\"\n",
    "    model.add_component(cname, pyo.Constraint(expr=constraint_expr))\n",
    "    constraint_log[cname] = constraint_expr\n",
    "    constraint_counter += 1\n"
   ]
  },
  {
   "cell_type": "code",
   "execution_count": 4,
   "metadata": {},
   "outputs": [
    {
     "name": "stdout",
     "output_type": "stream",
     "text": [
      "Set parameter OutputFlag to value 1\n",
      "Set parameter LogFile to value \"test.log\"\n",
      "Set parameter TimeLimit to value 60\n",
      "Gurobi Optimizer version 12.0.0 build v12.0.0rc1 (linux64 - \"Ubuntu 20.04.6 LTS\")\n",
      "\n",
      "CPU model: AMD Ryzen 7 PRO 5850U with Radeon Graphics, instruction set [SSE2|AVX|AVX2]\n",
      "Thread count: 8 physical cores, 16 logical processors, using up to 16 threads\n",
      "\n",
      "Non-default parameters:\n",
      "TimeLimit  60\n",
      "\n",
      "Optimize a model with 7 rows, 10 columns and 16 nonzeros\n",
      "Model fingerprint: 0xb9b9f45f\n",
      "Variable types: 5 continuous, 5 integer (0 binary)\n",
      "Coefficient statistics:\n",
      "  Matrix range     [1e-01, 1e+00]\n",
      "  Objective range  [1e+00, 1e+00]\n",
      "  Bounds range     [0e+00, 0e+00]\n",
      "  RHS range        [3e+00, 3e+01]\n",
      "Presolve removed 7 rows and 10 columns\n",
      "Presolve time: 0.00s\n",
      "Presolve: All rows and columns removed\n",
      "\n",
      "Explored 0 nodes (0 simplex iterations) in 0.02 seconds (0.00 work units)\n",
      "Thread count was 1 (of 16 available processors)\n",
      "\n",
      "Solution count 1: 3.4 \n",
      "\n",
      "Optimal solution found (tolerance 1.00e-04)\n",
      "Best objective 3.400000000000e+00, best bound 3.400000000000e+00, gap 0.0000%\n",
      "Dictionary saved to HDF5 file successfully!\n"
     ]
    }
   ],
   "source": [
    "\n",
    "\n",
    "# Create Model\n",
    "m = pyo.ConcreteModel(\"name\")\n",
    "\n",
    "m.Scenarios = pyo.RangeSet(3)\n",
    "\n",
    "m.I = pyo.RangeSet(5)\n",
    "\n",
    "m.p = pyo.Param(initialize=5,doc=\"this is a parameter\")\n",
    "\n",
    "m.x = pyo.Var(m.I, within=pyo.NonNegativeReals,doc=\"this is an indexed variable\")\n",
    "\n",
    "@m.Objective(doc=\"This is an Objective\", sense=pyo.minimize)\n",
    "def obj(m):\n",
    "    return sum(m.x[i] for i in m.I)\n",
    "\n",
    "\n",
    "@m.Block()\n",
    "def scenario(block):\n",
    "    block.Scenarios = pyo.RangeSet(5)\n",
    "    block.x = pyo.Var(block.Scenarios, within=pyo.NonNegativeIntegers)\n",
    "    @block.Constraint()\n",
    "    def block_con1(block):\n",
    "        return sum(block.x[j] for j in block.Scenarios) >= 34\n",
    "\n",
    "@m.Constraint(m.I, doc=\"This is a Constraint\")\n",
    "def con1(m, i):\n",
    "    return m.x[i] >= m.scenario.x[i]/10\n",
    "\n",
    "\n",
    "add_tracked_constraint(m, m.x[2]<=5, \"limit_x2_to_5\")\n",
    "\n",
    "del m.limit_x2_to_5\n",
    "\n",
    "add_tracked_constraint(m, m.x[2]<=3, \"limit_x2_to_5\")\n",
    "\n",
    "\n",
    "# Solve Model\n",
    "filename = \"test\"\n",
    "\n",
    "solver = pyo.SolverFactory(\"gurobi\", solver_io=\"python\")\n",
    "solver.options[\"LogFile\"] = filename + \".log\"\n",
    "solver.options[\"TimeLimit\"] = 60\n",
    "results = solver.solve(m, tee=True)\n",
    "\n",
    "# Save the dictionary to an HDF5 file\n",
    "save_h5(m, results, filename,\n",
    "        solver_options=solver.options,\n",
    "        save_log_flag=False,\n",
    "        save_constraint_flag=True,\n",
    "        pickle_flag=True,\n",
    "        git_flag=True)\n",
    "print(\"Dictionary saved to HDF5 file successfully!\")\n",
    "\n",
    "\n",
    "def save_tracked_constraints_to_hdf5(file_path, constraint_dict):\n",
    "    with h5py.File(file_path +\".h5\", 'a') as f:\n",
    "        constraints_grp = f.create_group(\"constraints_newly_added\")\n",
    "        for name, expr in constraint_dict.items():\n",
    "            constraints_grp.create_dataset(name, data=str(expr))\n",
    "\n",
    "\n",
    "\n",
    "\n",
    "save_tracked_constraints_to_hdf5(filename, constraint_log)\n",
    "\n",
    "\n",
    "data_dict2 = {\"Metadata\": {\"Infos\": \"This will be metadata to the toplevel of the h5 file\"}, \"comment\": {\"Content\": \"This comes as data to the comment group\", \"Metadata\": {\"Info\": \"This will be the attribute Info and its text\", \"Written by\": \"Julius\", \"For\": \"Julius\"}}, \"Variable\": {\"Metadata\": {\"Info\": \"This is metadata to the variables\"}}}\n",
    "\n",
    "save_dict_w_metadata(filename, data_dict2)"
   ]
  }
 ],
 "metadata": {
  "kernelspec": {
   "display_name": "env",
   "language": "python",
   "name": "python3"
  },
  "language_info": {
   "codemirror_mode": {
    "name": "ipython",
    "version": 3
   },
   "file_extension": ".py",
   "mimetype": "text/x-python",
   "name": "python",
   "nbconvert_exporter": "python",
   "pygments_lexer": "ipython3",
   "version": "3.11.11"
  }
 },
 "nbformat": 4,
 "nbformat_minor": 2
}
