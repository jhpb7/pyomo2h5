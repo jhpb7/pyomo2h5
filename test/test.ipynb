{
 "cells": [
  {
   "cell_type": "markdown",
   "metadata": {},
   "source": [
    "# example code for checking installation"
   ]
  },
  {
   "cell_type": "code",
   "execution_count": 2,
   "metadata": {},
   "outputs": [
    {
     "name": "stdout",
     "output_type": "stream",
     "text": [
      "Dictionary saved to HDF5 file successfully!\n"
     ]
    }
   ],
   "source": [
    "import pyomo.environ as pyo\n",
    "from pyomo2h5 import save_h5\n",
    "\n",
    "# Create Model\n",
    "m = pyo.ConcreteModel()\n",
    "\n",
    "m.I = pyo.RangeSet(5)\n",
    "m.x = pyo.Var(m.I)\n",
    "\n",
    "@m.Objective()\n",
    "def obj(m):\n",
    "    return sum(m.x)\n",
    "\n",
    "# Solve Model\n",
    "filename = \"test\"\n",
    "\n",
    "solver = pyo.SolverFactory(\"gurobi\", solver_io=\"python\")\n",
    "solver.options[\"LogFile\"] = filename + \".log\"\n",
    "results = solver.solve(m)\n",
    "\n",
    "\n",
    "# Save the dictionary to an HDF5 file\n",
    "save_h5(m, results, filename, \n",
    "        save_log_flag=False, \n",
    "        save_constraint_flag=True,\n",
    "        pickle_flag=True,\n",
    "        git_flag=True)\n",
    "print(\"Dictionary saved to HDF5 file successfully!\")"
   ]
  }
 ],
 "metadata": {
  "kernelspec": {
   "display_name": "env",
   "language": "python",
   "name": "python3"
  },
  "language_info": {
   "codemirror_mode": {
    "name": "ipython",
    "version": 3
   },
   "file_extension": ".py",
   "mimetype": "text/x-python",
   "name": "python",
   "nbconvert_exporter": "python",
   "pygments_lexer": "ipython3",
   "version": "3.11.11"
  }
 },
 "nbformat": 4,
 "nbformat_minor": 2
}
