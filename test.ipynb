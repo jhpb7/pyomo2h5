{
 "cells": [
  {
   "cell_type": "markdown",
   "metadata": {},
   "source": [
    "# example code for checking installation"
   ]
  },
  {
   "cell_type": "code",
   "execution_count": 14,
   "metadata": {},
   "outputs": [
    {
     "name": "stdout",
     "output_type": "stream",
     "text": [
      "hdf5_saver imported successfully!\n",
      "Dictionary saved to HDF5 file successfully!\n"
     ]
    }
   ],
   "source": [
    "try:\n",
    "    # Import the package to test if it's accessible\n",
    "    import hdf5_saver.save_hdf5 as hdf5_saver\n",
    "    print(\"hdf5_saver imported successfully!\")\n",
    "\n",
    "    # Optional: Test a function from the package\n",
    "    # Example usage: create a simple dictionary and save it to an HDF5 file\n",
    "    import h5py\n",
    "    \n",
    "    # Sample dictionary to save\n",
    "    sample_dict = {\n",
    "        \"pressure\": {\"value\": 101325, \"unit\": \"Pa\", \"description\": \"Standard atmospheric pressure\"},\n",
    "        \"volume_flow\": {\"value\": 1.2, \"unit\": \"m³/s\", \"description\": \"Volume flow rate\"}\n",
    "    }\n",
    "    \n",
    "    # Save the dictionary to an HDF5 file\n",
    "    with h5py.File(\"test_output.h5\", \"w\") as h5file:\n",
    "        hdf5_saver.save_dict_to_hdf5(sample_dict, h5file)\n",
    "    print(\"Dictionary saved to HDF5 file successfully!\")\n",
    "\n",
    "except ModuleNotFoundError as e:\n",
    "    print(\"Import failed:\", e)\n",
    "except Exception as e:\n",
    "    print(\"An error occurred:\", e)\n"
   ]
  }
 ],
 "metadata": {
  "kernelspec": {
   "display_name": "myenv",
   "language": "python",
   "name": "python3"
  },
  "language_info": {
   "codemirror_mode": {
    "name": "ipython",
    "version": 3
   },
   "file_extension": ".py",
   "mimetype": "text/x-python",
   "name": "python",
   "nbconvert_exporter": "python",
   "pygments_lexer": "ipython3",
   "version": "3.10.12"
  }
 },
 "nbformat": 4,
 "nbformat_minor": 2
}
